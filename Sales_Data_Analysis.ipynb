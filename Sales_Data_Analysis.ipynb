{
  "nbformat": 4,
  "nbformat_minor": 0,
  "metadata": {
    "colab": {
      "name": "Sales Data Analysis.ipynb",
      "provenance": [],
      "authorship_tag": "ABX9TyPPFHmaYHRW15xRUkSWqw9f",
      "include_colab_link": true
    },
    "kernelspec": {
      "name": "python3",
      "display_name": "Python 3"
    },
    "language_info": {
      "name": "python"
    }
  },
  "cells": [
    {
      "cell_type": "markdown",
      "metadata": {
        "id": "view-in-github",
        "colab_type": "text"
      },
      "source": [
        "<a href=\"https://colab.research.google.com/github/get2aakash/DSMLprojects/blob/main/Sales_Data_Analysis.ipynb\" target=\"_parent\"><img src=\"https://colab.research.google.com/assets/colab-badge.svg\" alt=\"Open In Colab\"/></a>"
      ]
    },
    {
      "cell_type": "markdown",
      "metadata": {
        "id": "2w2KJ0FF6VP5"
      },
      "source": [
        "#Import libraries"
      ]
    },
    {
      "cell_type": "code",
      "metadata": {
        "id": "HJ5mWkSS3WwM"
      },
      "source": [
        "import pandas as pd\n",
        "import numpy as np\n",
        "import matplotlib.pyplot as plt\n",
        "import os"
      ],
      "execution_count": 1,
      "outputs": []
    },
    {
      "cell_type": "code",
      "metadata": {
        "colab": {
          "base_uri": "https://localhost:8080/"
        },
        "id": "eDF4Sh9O3-ST",
        "outputId": "6844d726-caa4-4bb7-a656-384bd86e32bc"
      },
      "source": [
        "os.listdir('/content/Sales')"
      ],
      "execution_count": 3,
      "outputs": [
        {
          "output_type": "execute_result",
          "data": {
            "text/plain": [
              "['Sales_January_2019.csv',\n",
              " 'Sales_August_2019.csv',\n",
              " 'Sales_December_2019.csv',\n",
              " 'Sales_April_2019.csv',\n",
              " 'Sales_March_2019.csv',\n",
              " 'Sales_July_2019.csv',\n",
              " 'Sales_November_2019.csv',\n",
              " 'Sales_May_2019.csv',\n",
              " 'Sales_October_2019.csv',\n",
              " 'Sales_June_2019.csv',\n",
              " 'Sales_September_2019.csv',\n",
              " 'Sales_February_2019.csv']"
            ]
          },
          "metadata": {
            "tags": []
          },
          "execution_count": 3
        }
      ]
    },
    {
      "cell_type": "code",
      "metadata": {
        "colab": {
          "base_uri": "https://localhost:8080/"
        },
        "id": "BWxtQ14n4ASV",
        "outputId": "242a0ccd-8785-4498-d3f6-6b56bb7c3c72"
      },
      "source": [
        "for file in os.listdir('/content/Sales'):\n",
        "  print(file)"
      ],
      "execution_count": 4,
      "outputs": [
        {
          "output_type": "stream",
          "text": [
            "Sales_January_2019.csv\n",
            "Sales_August_2019.csv\n",
            "Sales_December_2019.csv\n",
            "Sales_April_2019.csv\n",
            "Sales_March_2019.csv\n",
            "Sales_July_2019.csv\n",
            "Sales_November_2019.csv\n",
            "Sales_May_2019.csv\n",
            "Sales_October_2019.csv\n",
            "Sales_June_2019.csv\n",
            "Sales_September_2019.csv\n",
            "Sales_February_2019.csv\n"
          ],
          "name": "stdout"
        }
      ]
    },
    {
      "cell_type": "code",
      "metadata": {
        "colab": {
          "base_uri": "https://localhost:8080/"
        },
        "id": "_573NO0c4w7U",
        "outputId": "4cb2acd0-da96-45f4-e07f-5f3a9c2f6974"
      },
      "source": [
        "path = '/content/Sales'\n",
        "\n",
        "all_data = pd.DataFrame()\n",
        "for file in os.listdir('/content/Sales'):\n",
        "  current_df=pd.read_csv(path+\"/\"+file)\n",
        "  all_data=pd.concat([all_data,current_df])\n",
        "\n",
        "all_data.shape"
      ],
      "execution_count": 5,
      "outputs": [
        {
          "output_type": "execute_result",
          "data": {
            "text/plain": [
              "(186850, 6)"
            ]
          },
          "metadata": {
            "tags": []
          },
          "execution_count": 5
        }
      ]
    },
    {
      "cell_type": "code",
      "metadata": {
        "id": "gLtRU-656Cap"
      },
      "source": [
        "all_data.to_csv('all_data.csv')"
      ],
      "execution_count": 6,
      "outputs": []
    },
    {
      "cell_type": "markdown",
      "metadata": {
        "id": "vh5POjc66hqF"
      },
      "source": [
        "#Data Pre_processing"
      ]
    },
    {
      "cell_type": "code",
      "metadata": {
        "colab": {
          "base_uri": "https://localhost:8080/",
          "height": 203
        },
        "id": "UWzqBtCL6HQm",
        "outputId": "9507f3bc-e25a-4bfd-805f-f37125a46a16"
      },
      "source": [
        "all_data.head()"
      ],
      "execution_count": 7,
      "outputs": [
        {
          "output_type": "execute_result",
          "data": {
            "text/html": [
              "<div>\n",
              "<style scoped>\n",
              "    .dataframe tbody tr th:only-of-type {\n",
              "        vertical-align: middle;\n",
              "    }\n",
              "\n",
              "    .dataframe tbody tr th {\n",
              "        vertical-align: top;\n",
              "    }\n",
              "\n",
              "    .dataframe thead th {\n",
              "        text-align: right;\n",
              "    }\n",
              "</style>\n",
              "<table border=\"1\" class=\"dataframe\">\n",
              "  <thead>\n",
              "    <tr style=\"text-align: right;\">\n",
              "      <th></th>\n",
              "      <th>Order ID</th>\n",
              "      <th>Product</th>\n",
              "      <th>Quantity Ordered</th>\n",
              "      <th>Price Each</th>\n",
              "      <th>Order Date</th>\n",
              "      <th>Purchase Address</th>\n",
              "    </tr>\n",
              "  </thead>\n",
              "  <tbody>\n",
              "    <tr>\n",
              "      <th>0</th>\n",
              "      <td>141234</td>\n",
              "      <td>iPhone</td>\n",
              "      <td>1</td>\n",
              "      <td>700</td>\n",
              "      <td>01/22/19 21:25</td>\n",
              "      <td>944 Walnut St, Boston, MA 02215</td>\n",
              "    </tr>\n",
              "    <tr>\n",
              "      <th>1</th>\n",
              "      <td>141235</td>\n",
              "      <td>Lightning Charging Cable</td>\n",
              "      <td>1</td>\n",
              "      <td>14.95</td>\n",
              "      <td>01/28/19 14:15</td>\n",
              "      <td>185 Maple St, Portland, OR 97035</td>\n",
              "    </tr>\n",
              "    <tr>\n",
              "      <th>2</th>\n",
              "      <td>141236</td>\n",
              "      <td>Wired Headphones</td>\n",
              "      <td>2</td>\n",
              "      <td>11.99</td>\n",
              "      <td>01/17/19 13:33</td>\n",
              "      <td>538 Adams St, San Francisco, CA 94016</td>\n",
              "    </tr>\n",
              "    <tr>\n",
              "      <th>3</th>\n",
              "      <td>141237</td>\n",
              "      <td>27in FHD Monitor</td>\n",
              "      <td>1</td>\n",
              "      <td>149.99</td>\n",
              "      <td>01/05/19 20:33</td>\n",
              "      <td>738 10th St, Los Angeles, CA 90001</td>\n",
              "    </tr>\n",
              "    <tr>\n",
              "      <th>4</th>\n",
              "      <td>141238</td>\n",
              "      <td>Wired Headphones</td>\n",
              "      <td>1</td>\n",
              "      <td>11.99</td>\n",
              "      <td>01/25/19 11:59</td>\n",
              "      <td>387 10th St, Austin, TX 73301</td>\n",
              "    </tr>\n",
              "  </tbody>\n",
              "</table>\n",
              "</div>"
            ],
            "text/plain": [
              "  Order ID  ...                       Purchase Address\n",
              "0   141234  ...        944 Walnut St, Boston, MA 02215\n",
              "1   141235  ...       185 Maple St, Portland, OR 97035\n",
              "2   141236  ...  538 Adams St, San Francisco, CA 94016\n",
              "3   141237  ...     738 10th St, Los Angeles, CA 90001\n",
              "4   141238  ...          387 10th St, Austin, TX 73301\n",
              "\n",
              "[5 rows x 6 columns]"
            ]
          },
          "metadata": {
            "tags": []
          },
          "execution_count": 7
        }
      ]
    },
    {
      "cell_type": "code",
      "metadata": {
        "colab": {
          "base_uri": "https://localhost:8080/"
        },
        "id": "RBnO8RO-6RY-",
        "outputId": "0ea2bfba-2000-4690-fe24-d795b6e96fe9"
      },
      "source": [
        "all_data.isnull().sum()"
      ],
      "execution_count": 8,
      "outputs": [
        {
          "output_type": "execute_result",
          "data": {
            "text/plain": [
              "Order ID            545\n",
              "Product             545\n",
              "Quantity Ordered    545\n",
              "Price Each          545\n",
              "Order Date          545\n",
              "Purchase Address    545\n",
              "dtype: int64"
            ]
          },
          "metadata": {
            "tags": []
          },
          "execution_count": 8
        }
      ]
    },
    {
      "cell_type": "code",
      "metadata": {
        "id": "fHWkbkby6mlY"
      },
      "source": [
        "all_data = all_data.dropna(how=\"all\") #dropna data altogether"
      ],
      "execution_count": 9,
      "outputs": []
    },
    {
      "cell_type": "code",
      "metadata": {
        "colab": {
          "base_uri": "https://localhost:8080/"
        },
        "id": "18RCkUIM6wsr",
        "outputId": "174f8b96-a8b4-495c-c7f8-39060d2a51f0"
      },
      "source": [
        "all_data.shape"
      ],
      "execution_count": 10,
      "outputs": [
        {
          "output_type": "execute_result",
          "data": {
            "text/plain": [
              "(186305, 6)"
            ]
          },
          "metadata": {
            "tags": []
          },
          "execution_count": 10
        }
      ]
    },
    {
      "cell_type": "code",
      "metadata": {
        "colab": {
          "base_uri": "https://localhost:8080/"
        },
        "id": "8kzoE-9s66yr",
        "outputId": "5d3b030d-a1f5-4540-852a-fe13466c49b6"
      },
      "source": [
        "all_data.isnull().sum() #no more missing data"
      ],
      "execution_count": 11,
      "outputs": [
        {
          "output_type": "execute_result",
          "data": {
            "text/plain": [
              "Order ID            0\n",
              "Product             0\n",
              "Quantity Ordered    0\n",
              "Price Each          0\n",
              "Order Date          0\n",
              "Purchase Address    0\n",
              "dtype: int64"
            ]
          },
          "metadata": {
            "tags": []
          },
          "execution_count": 11
        }
      ]
    },
    {
      "cell_type": "code",
      "metadata": {
        "colab": {
          "base_uri": "https://localhost:8080/"
        },
        "id": "4bxAe-7Z699s",
        "outputId": "615dfc57-6d93-4eaf-9673-06d265028a21"
      },
      "source": [
        "'01/22/19 21:25'.split('/') #split data based on \"/\""
      ],
      "execution_count": 12,
      "outputs": [
        {
          "output_type": "execute_result",
          "data": {
            "text/plain": [
              "['01', '22', '19 21:25']"
            ]
          },
          "metadata": {
            "tags": []
          },
          "execution_count": 12
        }
      ]
    },
    {
      "cell_type": "code",
      "metadata": {
        "id": "mMTbvePz7PbV"
      },
      "source": [
        "#define function to get month value , ie zero column\n",
        "def month(x):\n",
        "  return x.split('/')[0]"
      ],
      "execution_count": 13,
      "outputs": []
    },
    {
      "cell_type": "code",
      "metadata": {
        "id": "C8zFju-T7Z_g"
      },
      "source": [
        "all_data['month']= all_data['Order Date'].apply(month) #apply \"month\" funciton "
      ],
      "execution_count": 14,
      "outputs": []
    },
    {
      "cell_type": "code",
      "metadata": {
        "colab": {
          "base_uri": "https://localhost:8080/",
          "height": 203
        },
        "id": "pmuy3-S37wjg",
        "outputId": "466e13d4-69e1-44b2-c0fd-1dbbcb47a848"
      },
      "source": [
        "all_data.head() #we can see last column month is now created"
      ],
      "execution_count": 15,
      "outputs": [
        {
          "output_type": "execute_result",
          "data": {
            "text/html": [
              "<div>\n",
              "<style scoped>\n",
              "    .dataframe tbody tr th:only-of-type {\n",
              "        vertical-align: middle;\n",
              "    }\n",
              "\n",
              "    .dataframe tbody tr th {\n",
              "        vertical-align: top;\n",
              "    }\n",
              "\n",
              "    .dataframe thead th {\n",
              "        text-align: right;\n",
              "    }\n",
              "</style>\n",
              "<table border=\"1\" class=\"dataframe\">\n",
              "  <thead>\n",
              "    <tr style=\"text-align: right;\">\n",
              "      <th></th>\n",
              "      <th>Order ID</th>\n",
              "      <th>Product</th>\n",
              "      <th>Quantity Ordered</th>\n",
              "      <th>Price Each</th>\n",
              "      <th>Order Date</th>\n",
              "      <th>Purchase Address</th>\n",
              "      <th>month</th>\n",
              "    </tr>\n",
              "  </thead>\n",
              "  <tbody>\n",
              "    <tr>\n",
              "      <th>0</th>\n",
              "      <td>141234</td>\n",
              "      <td>iPhone</td>\n",
              "      <td>1</td>\n",
              "      <td>700</td>\n",
              "      <td>01/22/19 21:25</td>\n",
              "      <td>944 Walnut St, Boston, MA 02215</td>\n",
              "      <td>01</td>\n",
              "    </tr>\n",
              "    <tr>\n",
              "      <th>1</th>\n",
              "      <td>141235</td>\n",
              "      <td>Lightning Charging Cable</td>\n",
              "      <td>1</td>\n",
              "      <td>14.95</td>\n",
              "      <td>01/28/19 14:15</td>\n",
              "      <td>185 Maple St, Portland, OR 97035</td>\n",
              "      <td>01</td>\n",
              "    </tr>\n",
              "    <tr>\n",
              "      <th>2</th>\n",
              "      <td>141236</td>\n",
              "      <td>Wired Headphones</td>\n",
              "      <td>2</td>\n",
              "      <td>11.99</td>\n",
              "      <td>01/17/19 13:33</td>\n",
              "      <td>538 Adams St, San Francisco, CA 94016</td>\n",
              "      <td>01</td>\n",
              "    </tr>\n",
              "    <tr>\n",
              "      <th>3</th>\n",
              "      <td>141237</td>\n",
              "      <td>27in FHD Monitor</td>\n",
              "      <td>1</td>\n",
              "      <td>149.99</td>\n",
              "      <td>01/05/19 20:33</td>\n",
              "      <td>738 10th St, Los Angeles, CA 90001</td>\n",
              "      <td>01</td>\n",
              "    </tr>\n",
              "    <tr>\n",
              "      <th>4</th>\n",
              "      <td>141238</td>\n",
              "      <td>Wired Headphones</td>\n",
              "      <td>1</td>\n",
              "      <td>11.99</td>\n",
              "      <td>01/25/19 11:59</td>\n",
              "      <td>387 10th St, Austin, TX 73301</td>\n",
              "      <td>01</td>\n",
              "    </tr>\n",
              "  </tbody>\n",
              "</table>\n",
              "</div>"
            ],
            "text/plain": [
              "  Order ID  ... month\n",
              "0   141234  ...    01\n",
              "1   141235  ...    01\n",
              "2   141236  ...    01\n",
              "3   141237  ...    01\n",
              "4   141238  ...    01\n",
              "\n",
              "[5 rows x 7 columns]"
            ]
          },
          "metadata": {
            "tags": []
          },
          "execution_count": 15
        }
      ]
    },
    {
      "cell_type": "code",
      "metadata": {
        "colab": {
          "base_uri": "https://localhost:8080/"
        },
        "id": "cIkeoDp48Ao9",
        "outputId": "0dd3037e-0997-47bc-f7a6-71dad89ab664"
      },
      "source": [
        "all_data.info() #we can see data type is object so this need to be converted to  number so to run analysis"
      ],
      "execution_count": 16,
      "outputs": [
        {
          "output_type": "stream",
          "text": [
            "<class 'pandas.core.frame.DataFrame'>\n",
            "Int64Index: 186305 entries, 0 to 12035\n",
            "Data columns (total 7 columns):\n",
            " #   Column            Non-Null Count   Dtype \n",
            "---  ------            --------------   ----- \n",
            " 0   Order ID          186305 non-null  object\n",
            " 1   Product           186305 non-null  object\n",
            " 2   Quantity Ordered  186305 non-null  object\n",
            " 3   Price Each        186305 non-null  object\n",
            " 4   Order Date        186305 non-null  object\n",
            " 5   Purchase Address  186305 non-null  object\n",
            " 6   month             186305 non-null  object\n",
            "dtypes: object(7)\n",
            "memory usage: 11.4+ MB\n"
          ],
          "name": "stdout"
        }
      ]
    },
    {
      "cell_type": "code",
      "metadata": {
        "colab": {
          "base_uri": "https://localhost:8080/"
        },
        "id": "93ya0Q2B8khq",
        "outputId": "58bed2b4-32b3-40b6-f679-05ed9740b29c"
      },
      "source": [
        "all_data['month'].unique()"
      ],
      "execution_count": 17,
      "outputs": [
        {
          "output_type": "execute_result",
          "data": {
            "text/plain": [
              "array(['01', 'Order Date', '02', '08', '09', '12', '04', '05', '03', '07',\n",
              "       '11', '06', '10'], dtype=object)"
            ]
          },
          "metadata": {
            "tags": []
          },
          "execution_count": 17
        }
      ]
    },
    {
      "cell_type": "code",
      "metadata": {
        "id": "LU3hskL29Aud"
      },
      "source": [
        "filter = all_data['month']=='Order Date' #Create a filter to exclude rubbish data"
      ],
      "execution_count": 18,
      "outputs": []
    },
    {
      "cell_type": "code",
      "metadata": {
        "id": "2m1K9GKY9LT8"
      },
      "source": [
        "all_data = all_data[~filter] #apply the filter"
      ],
      "execution_count": 19,
      "outputs": []
    },
    {
      "cell_type": "code",
      "metadata": {
        "colab": {
          "base_uri": "https://localhost:8080/",
          "height": 203
        },
        "id": "awX6qjlI9Se1",
        "outputId": "e4803624-9795-48e2-f6dc-52d49414b847"
      },
      "source": [
        "all_data.head()"
      ],
      "execution_count": 20,
      "outputs": [
        {
          "output_type": "execute_result",
          "data": {
            "text/html": [
              "<div>\n",
              "<style scoped>\n",
              "    .dataframe tbody tr th:only-of-type {\n",
              "        vertical-align: middle;\n",
              "    }\n",
              "\n",
              "    .dataframe tbody tr th {\n",
              "        vertical-align: top;\n",
              "    }\n",
              "\n",
              "    .dataframe thead th {\n",
              "        text-align: right;\n",
              "    }\n",
              "</style>\n",
              "<table border=\"1\" class=\"dataframe\">\n",
              "  <thead>\n",
              "    <tr style=\"text-align: right;\">\n",
              "      <th></th>\n",
              "      <th>Order ID</th>\n",
              "      <th>Product</th>\n",
              "      <th>Quantity Ordered</th>\n",
              "      <th>Price Each</th>\n",
              "      <th>Order Date</th>\n",
              "      <th>Purchase Address</th>\n",
              "      <th>month</th>\n",
              "    </tr>\n",
              "  </thead>\n",
              "  <tbody>\n",
              "    <tr>\n",
              "      <th>0</th>\n",
              "      <td>141234</td>\n",
              "      <td>iPhone</td>\n",
              "      <td>1</td>\n",
              "      <td>700</td>\n",
              "      <td>01/22/19 21:25</td>\n",
              "      <td>944 Walnut St, Boston, MA 02215</td>\n",
              "      <td>01</td>\n",
              "    </tr>\n",
              "    <tr>\n",
              "      <th>1</th>\n",
              "      <td>141235</td>\n",
              "      <td>Lightning Charging Cable</td>\n",
              "      <td>1</td>\n",
              "      <td>14.95</td>\n",
              "      <td>01/28/19 14:15</td>\n",
              "      <td>185 Maple St, Portland, OR 97035</td>\n",
              "      <td>01</td>\n",
              "    </tr>\n",
              "    <tr>\n",
              "      <th>2</th>\n",
              "      <td>141236</td>\n",
              "      <td>Wired Headphones</td>\n",
              "      <td>2</td>\n",
              "      <td>11.99</td>\n",
              "      <td>01/17/19 13:33</td>\n",
              "      <td>538 Adams St, San Francisco, CA 94016</td>\n",
              "      <td>01</td>\n",
              "    </tr>\n",
              "    <tr>\n",
              "      <th>3</th>\n",
              "      <td>141237</td>\n",
              "      <td>27in FHD Monitor</td>\n",
              "      <td>1</td>\n",
              "      <td>149.99</td>\n",
              "      <td>01/05/19 20:33</td>\n",
              "      <td>738 10th St, Los Angeles, CA 90001</td>\n",
              "      <td>01</td>\n",
              "    </tr>\n",
              "    <tr>\n",
              "      <th>4</th>\n",
              "      <td>141238</td>\n",
              "      <td>Wired Headphones</td>\n",
              "      <td>1</td>\n",
              "      <td>11.99</td>\n",
              "      <td>01/25/19 11:59</td>\n",
              "      <td>387 10th St, Austin, TX 73301</td>\n",
              "      <td>01</td>\n",
              "    </tr>\n",
              "  </tbody>\n",
              "</table>\n",
              "</div>"
            ],
            "text/plain": [
              "  Order ID  ... month\n",
              "0   141234  ...    01\n",
              "1   141235  ...    01\n",
              "2   141236  ...    01\n",
              "3   141237  ...    01\n",
              "4   141238  ...    01\n",
              "\n",
              "[5 rows x 7 columns]"
            ]
          },
          "metadata": {
            "tags": []
          },
          "execution_count": 20
        }
      ]
    },
    {
      "cell_type": "code",
      "metadata": {
        "id": "SUJzwstM9U34"
      },
      "source": [
        "all_data['month'] = all_data['month'].astype(int)"
      ],
      "execution_count": 21,
      "outputs": []
    },
    {
      "cell_type": "code",
      "metadata": {
        "colab": {
          "base_uri": "https://localhost:8080/"
        },
        "id": "Al7VslVF9Znp",
        "outputId": "27ad5358-cf96-483a-a1e8-414b43cea873"
      },
      "source": [
        "all_data.info() #now we can see month is converted to integer"
      ],
      "execution_count": 22,
      "outputs": [
        {
          "output_type": "stream",
          "text": [
            "<class 'pandas.core.frame.DataFrame'>\n",
            "Int64Index: 185950 entries, 0 to 12035\n",
            "Data columns (total 7 columns):\n",
            " #   Column            Non-Null Count   Dtype \n",
            "---  ------            --------------   ----- \n",
            " 0   Order ID          185950 non-null  object\n",
            " 1   Product           185950 non-null  object\n",
            " 2   Quantity Ordered  185950 non-null  object\n",
            " 3   Price Each        185950 non-null  object\n",
            " 4   Order Date        185950 non-null  object\n",
            " 5   Purchase Address  185950 non-null  object\n",
            " 6   month             185950 non-null  int64 \n",
            "dtypes: int64(1), object(6)\n",
            "memory usage: 11.3+ MB\n"
          ],
          "name": "stdout"
        }
      ]
    },
    {
      "cell_type": "code",
      "metadata": {
        "id": "I1pNIT0x9cEa"
      },
      "source": [
        "all_data['Quantity Ordered'] = all_data['Quantity Ordered'].astype(int)"
      ],
      "execution_count": 23,
      "outputs": []
    },
    {
      "cell_type": "code",
      "metadata": {
        "colab": {
          "base_uri": "https://localhost:8080/"
        },
        "id": "LYSA8GY59mVn",
        "outputId": "82c13cb1-7325-417b-b01d-343606711875"
      },
      "source": [
        "all_data.info() #now we can see Quantity Ordered is converted to integer"
      ],
      "execution_count": 24,
      "outputs": [
        {
          "output_type": "stream",
          "text": [
            "<class 'pandas.core.frame.DataFrame'>\n",
            "Int64Index: 185950 entries, 0 to 12035\n",
            "Data columns (total 7 columns):\n",
            " #   Column            Non-Null Count   Dtype \n",
            "---  ------            --------------   ----- \n",
            " 0   Order ID          185950 non-null  object\n",
            " 1   Product           185950 non-null  object\n",
            " 2   Quantity Ordered  185950 non-null  int64 \n",
            " 3   Price Each        185950 non-null  object\n",
            " 4   Order Date        185950 non-null  object\n",
            " 5   Purchase Address  185950 non-null  object\n",
            " 6   month             185950 non-null  int64 \n",
            "dtypes: int64(2), object(5)\n",
            "memory usage: 11.3+ MB\n"
          ],
          "name": "stdout"
        }
      ]
    },
    {
      "cell_type": "code",
      "metadata": {
        "id": "k9oVagwg9tbD"
      },
      "source": [
        " all_data['Price Each'] = all_data['Price Each'].astype(float)"
      ],
      "execution_count": 25,
      "outputs": []
    },
    {
      "cell_type": "code",
      "metadata": {
        "colab": {
          "base_uri": "https://localhost:8080/"
        },
        "id": "6or6-mTL99dj",
        "outputId": "67db53b6-2995-4354-d30b-e97770ae0ba6"
      },
      "source": [
        "all_data.info() #now we can see Price Each is converted to float"
      ],
      "execution_count": 26,
      "outputs": [
        {
          "output_type": "stream",
          "text": [
            "<class 'pandas.core.frame.DataFrame'>\n",
            "Int64Index: 185950 entries, 0 to 12035\n",
            "Data columns (total 7 columns):\n",
            " #   Column            Non-Null Count   Dtype  \n",
            "---  ------            --------------   -----  \n",
            " 0   Order ID          185950 non-null  object \n",
            " 1   Product           185950 non-null  object \n",
            " 2   Quantity Ordered  185950 non-null  int64  \n",
            " 3   Price Each        185950 non-null  float64\n",
            " 4   Order Date        185950 non-null  object \n",
            " 5   Purchase Address  185950 non-null  object \n",
            " 6   month             185950 non-null  int64  \n",
            "dtypes: float64(1), int64(2), object(4)\n",
            "memory usage: 11.3+ MB\n"
          ],
          "name": "stdout"
        }
      ]
    },
    {
      "cell_type": "code",
      "metadata": {
        "colab": {
          "base_uri": "https://localhost:8080/",
          "height": 203
        },
        "id": "vrvN0dO4-BbM",
        "outputId": "01c7932a-4b2a-4e07-bfd8-c101b98acfe4"
      },
      "source": [
        "all_data['sales'] =  all_data['Price Each']*all_data['Quantity Ordered'] #obtain total sales\n",
        "all_data.head()"
      ],
      "execution_count": 27,
      "outputs": [
        {
          "output_type": "execute_result",
          "data": {
            "text/html": [
              "<div>\n",
              "<style scoped>\n",
              "    .dataframe tbody tr th:only-of-type {\n",
              "        vertical-align: middle;\n",
              "    }\n",
              "\n",
              "    .dataframe tbody tr th {\n",
              "        vertical-align: top;\n",
              "    }\n",
              "\n",
              "    .dataframe thead th {\n",
              "        text-align: right;\n",
              "    }\n",
              "</style>\n",
              "<table border=\"1\" class=\"dataframe\">\n",
              "  <thead>\n",
              "    <tr style=\"text-align: right;\">\n",
              "      <th></th>\n",
              "      <th>Order ID</th>\n",
              "      <th>Product</th>\n",
              "      <th>Quantity Ordered</th>\n",
              "      <th>Price Each</th>\n",
              "      <th>Order Date</th>\n",
              "      <th>Purchase Address</th>\n",
              "      <th>month</th>\n",
              "      <th>sales</th>\n",
              "    </tr>\n",
              "  </thead>\n",
              "  <tbody>\n",
              "    <tr>\n",
              "      <th>0</th>\n",
              "      <td>141234</td>\n",
              "      <td>iPhone</td>\n",
              "      <td>1</td>\n",
              "      <td>700.00</td>\n",
              "      <td>01/22/19 21:25</td>\n",
              "      <td>944 Walnut St, Boston, MA 02215</td>\n",
              "      <td>1</td>\n",
              "      <td>700.00</td>\n",
              "    </tr>\n",
              "    <tr>\n",
              "      <th>1</th>\n",
              "      <td>141235</td>\n",
              "      <td>Lightning Charging Cable</td>\n",
              "      <td>1</td>\n",
              "      <td>14.95</td>\n",
              "      <td>01/28/19 14:15</td>\n",
              "      <td>185 Maple St, Portland, OR 97035</td>\n",
              "      <td>1</td>\n",
              "      <td>14.95</td>\n",
              "    </tr>\n",
              "    <tr>\n",
              "      <th>2</th>\n",
              "      <td>141236</td>\n",
              "      <td>Wired Headphones</td>\n",
              "      <td>2</td>\n",
              "      <td>11.99</td>\n",
              "      <td>01/17/19 13:33</td>\n",
              "      <td>538 Adams St, San Francisco, CA 94016</td>\n",
              "      <td>1</td>\n",
              "      <td>23.98</td>\n",
              "    </tr>\n",
              "    <tr>\n",
              "      <th>3</th>\n",
              "      <td>141237</td>\n",
              "      <td>27in FHD Monitor</td>\n",
              "      <td>1</td>\n",
              "      <td>149.99</td>\n",
              "      <td>01/05/19 20:33</td>\n",
              "      <td>738 10th St, Los Angeles, CA 90001</td>\n",
              "      <td>1</td>\n",
              "      <td>149.99</td>\n",
              "    </tr>\n",
              "    <tr>\n",
              "      <th>4</th>\n",
              "      <td>141238</td>\n",
              "      <td>Wired Headphones</td>\n",
              "      <td>1</td>\n",
              "      <td>11.99</td>\n",
              "      <td>01/25/19 11:59</td>\n",
              "      <td>387 10th St, Austin, TX 73301</td>\n",
              "      <td>1</td>\n",
              "      <td>11.99</td>\n",
              "    </tr>\n",
              "  </tbody>\n",
              "</table>\n",
              "</div>"
            ],
            "text/plain": [
              "  Order ID                   Product  ...  month   sales\n",
              "0   141234                    iPhone  ...      1  700.00\n",
              "1   141235  Lightning Charging Cable  ...      1   14.95\n",
              "2   141236          Wired Headphones  ...      1   23.98\n",
              "3   141237          27in FHD Monitor  ...      1  149.99\n",
              "4   141238          Wired Headphones  ...      1   11.99\n",
              "\n",
              "[5 rows x 8 columns]"
            ]
          },
          "metadata": {
            "tags": []
          },
          "execution_count": 27
        }
      ]
    },
    {
      "cell_type": "code",
      "metadata": {
        "colab": {
          "base_uri": "https://localhost:8080/"
        },
        "id": "kwDzTF3k-iM3",
        "outputId": "83dc9913-34a2-4c7e-caff-db9426dd3a17"
      },
      "source": [
        "all_data.info()"
      ],
      "execution_count": 28,
      "outputs": [
        {
          "output_type": "stream",
          "text": [
            "<class 'pandas.core.frame.DataFrame'>\n",
            "Int64Index: 185950 entries, 0 to 12035\n",
            "Data columns (total 8 columns):\n",
            " #   Column            Non-Null Count   Dtype  \n",
            "---  ------            --------------   -----  \n",
            " 0   Order ID          185950 non-null  object \n",
            " 1   Product           185950 non-null  object \n",
            " 2   Quantity Ordered  185950 non-null  int64  \n",
            " 3   Price Each        185950 non-null  float64\n",
            " 4   Order Date        185950 non-null  object \n",
            " 5   Purchase Address  185950 non-null  object \n",
            " 6   month             185950 non-null  int64  \n",
            " 7   sales             185950 non-null  float64\n",
            "dtypes: float64(2), int64(2), object(4)\n",
            "memory usage: 12.8+ MB\n"
          ],
          "name": "stdout"
        }
      ]
    },
    {
      "cell_type": "markdown",
      "metadata": {
        "id": "YWDxc4BQ-ueL"
      },
      "source": [
        "#Data Analysis"
      ]
    },
    {
      "cell_type": "code",
      "metadata": {
        "colab": {
          "base_uri": "https://localhost:8080/"
        },
        "id": "1V4_34m3-k8m",
        "outputId": "b0645de0-4bf3-40d4-a16f-9623b716e284"
      },
      "source": [
        "Total_sales = all_data.groupby('month')['sales'].sum() #Group by month to obtain sales\n",
        "Total_sales"
      ],
      "execution_count": 30,
      "outputs": [
        {
          "output_type": "execute_result",
          "data": {
            "text/plain": [
              "month\n",
              "1     1.822257e+06\n",
              "2     2.202022e+06\n",
              "3     2.807100e+06\n",
              "4     3.390670e+06\n",
              "5     3.152607e+06\n",
              "6     2.577802e+06\n",
              "7     2.647776e+06\n",
              "8     2.244468e+06\n",
              "9     2.097560e+06\n",
              "10    3.736727e+06\n",
              "11    3.199603e+06\n",
              "12    4.613443e+06\n",
              "Name: sales, dtype: float64"
            ]
          },
          "metadata": {
            "tags": []
          },
          "execution_count": 30
        }
      ]
    },
    {
      "cell_type": "code",
      "metadata": {
        "colab": {
          "base_uri": "https://localhost:8080/",
          "height": 312
        },
        "id": "jgUDq2i9dASc",
        "outputId": "56b49509-c4a7-4ea6-ca16-c9981e20ec0b"
      },
      "source": [
        "#months=[]\n",
        "month=range(1,13)\n",
        "plt.bar(month,Total_sales)\n",
        "plt.xlabel('Month')\n",
        "plt.ylabel('Total Sales')\n",
        "plt.title('Total sales per month in India')"
      ],
      "execution_count": 31,
      "outputs": [
        {
          "output_type": "execute_result",
          "data": {
            "text/plain": [
              "Text(0.5, 1.0, 'Total sales per month in India')"
            ]
          },
          "metadata": {
            "tags": []
          },
          "execution_count": 31
        },
        {
          "output_type": "display_data",
          "data": {
            "image/png": "[encoded data removed]",
            "text/plain": [
              "<Figure size 432x288 with 1 Axes>"
            ]
          },
          "metadata": {
            "tags": [],
            "needs_background": "light"
          }
        }
      ]
    },
    {
      "cell_type": "markdown",
      "metadata": {
        "id": "mGHWM59CFwEv"
      },
      "source": [
        "#City with max total sales "
      ]
    },
    {
      "cell_type": "code",
      "metadata": {
        "colab": {
          "base_uri": "https://localhost:8080/",
          "height": 203
        },
        "id": "yOaMyauz_WNq",
        "outputId": "378a95ad-6008-4629-bc0b-96a145fdd49b"
      },
      "source": [
        "  \n",
        "  all_data.head()"
      ],
      "execution_count": 32,
      "outputs": [
        {
          "output_type": "execute_result",
          "data": {
            "text/html": [
              "<div>\n",
              "<style scoped>\n",
              "    .dataframe tbody tr th:only-of-type {\n",
              "        vertical-align: middle;\n",
              "    }\n",
              "\n",
              "    .dataframe tbody tr th {\n",
              "        vertical-align: top;\n",
              "    }\n",
              "\n",
              "    .dataframe thead th {\n",
              "        text-align: right;\n",
              "    }\n",
              "</style>\n",
              "<table border=\"1\" class=\"dataframe\">\n",
              "  <thead>\n",
              "    <tr style=\"text-align: right;\">\n",
              "      <th></th>\n",
              "      <th>Order ID</th>\n",
              "      <th>Product</th>\n",
              "      <th>Quantity Ordered</th>\n",
              "      <th>Price Each</th>\n",
              "      <th>Order Date</th>\n",
              "      <th>Purchase Address</th>\n",
              "      <th>month</th>\n",
              "      <th>sales</th>\n",
              "    </tr>\n",
              "  </thead>\n",
              "  <tbody>\n",
              "    <tr>\n",
              "      <th>0</th>\n",
              "      <td>141234</td>\n",
              "      <td>iPhone</td>\n",
              "      <td>1</td>\n",
              "      <td>700.00</td>\n",
              "      <td>01/22/19 21:25</td>\n",
              "      <td>944 Walnut St, Boston, MA 02215</td>\n",
              "      <td>1</td>\n",
              "      <td>700.00</td>\n",
              "    </tr>\n",
              "    <tr>\n",
              "      <th>1</th>\n",
              "      <td>141235</td>\n",
              "      <td>Lightning Charging Cable</td>\n",
              "      <td>1</td>\n",
              "      <td>14.95</td>\n",
              "      <td>01/28/19 14:15</td>\n",
              "      <td>185 Maple St, Portland, OR 97035</td>\n",
              "      <td>1</td>\n",
              "      <td>14.95</td>\n",
              "    </tr>\n",
              "    <tr>\n",
              "      <th>2</th>\n",
              "      <td>141236</td>\n",
              "      <td>Wired Headphones</td>\n",
              "      <td>2</td>\n",
              "      <td>11.99</td>\n",
              "      <td>01/17/19 13:33</td>\n",
              "      <td>538 Adams St, San Francisco, CA 94016</td>\n",
              "      <td>1</td>\n",
              "      <td>23.98</td>\n",
              "    </tr>\n",
              "    <tr>\n",
              "      <th>3</th>\n",
              "      <td>141237</td>\n",
              "      <td>27in FHD Monitor</td>\n",
              "      <td>1</td>\n",
              "      <td>149.99</td>\n",
              "      <td>01/05/19 20:33</td>\n",
              "      <td>738 10th St, Los Angeles, CA 90001</td>\n",
              "      <td>1</td>\n",
              "      <td>149.99</td>\n",
              "    </tr>\n",
              "    <tr>\n",
              "      <th>4</th>\n",
              "      <td>141238</td>\n",
              "      <td>Wired Headphones</td>\n",
              "      <td>1</td>\n",
              "      <td>11.99</td>\n",
              "      <td>01/25/19 11:59</td>\n",
              "      <td>387 10th St, Austin, TX 73301</td>\n",
              "      <td>1</td>\n",
              "      <td>11.99</td>\n",
              "    </tr>\n",
              "  </tbody>\n",
              "</table>\n",
              "</div>"
            ],
            "text/plain": [
              "  Order ID                   Product  ...  month   sales\n",
              "0   141234                    iPhone  ...      1  700.00\n",
              "1   141235  Lightning Charging Cable  ...      1   14.95\n",
              "2   141236          Wired Headphones  ...      1   23.98\n",
              "3   141237          27in FHD Monitor  ...      1  149.99\n",
              "4   141238          Wired Headphones  ...      1   11.99\n",
              "\n",
              "[5 rows x 8 columns]"
            ]
          },
          "metadata": {
            "tags": []
          },
          "execution_count": 32
        }
      ]
    },
    {
      "cell_type": "code",
      "metadata": {
        "colab": {
          "base_uri": "https://localhost:8080/"
        },
        "id": "wjfRKlKjAjtS",
        "outputId": "2e540341-a11d-4cd2-e091-70091d235d37"
      },
      "source": [
        "'944 Walnut St, Boston, MA 02215'.split(',')"
      ],
      "execution_count": 33,
      "outputs": [
        {
          "output_type": "execute_result",
          "data": {
            "text/plain": [
              "['944 Walnut St', ' Boston', ' MA 02215']"
            ]
          },
          "metadata": {
            "tags": []
          },
          "execution_count": 33
        }
      ]
    },
    {
      "cell_type": "code",
      "metadata": {
        "id": "OKNhpdqxA7Zj"
      },
      "source": [
        "def city(x):\n",
        "  return x.split(',')[-2]"
      ],
      "execution_count": 34,
      "outputs": []
    },
    {
      "cell_type": "code",
      "metadata": {
        "colab": {
          "base_uri": "https://localhost:8080/"
        },
        "id": "uFsJSz3oBY8P",
        "outputId": "687077ca-0a4a-4815-b093-f41d7a4b6609"
      },
      "source": [
        "all_data['Purchase Address'].apply(city)"
      ],
      "execution_count": 35,
      "outputs": [
        {
          "output_type": "execute_result",
          "data": {
            "text/plain": [
              "0                Boston\n",
              "1              Portland\n",
              "2         San Francisco\n",
              "3           Los Angeles\n",
              "4                Austin\n",
              "              ...      \n",
              "12031     San Francisco\n",
              "12032       Los Angeles\n",
              "12033           Atlanta\n",
              "12034            Dallas\n",
              "12035       Los Angeles\n",
              "Name: Purchase Address, Length: 185950, dtype: object"
            ]
          },
          "metadata": {
            "tags": []
          },
          "execution_count": 35
        }
      ]
    },
    {
      "cell_type": "code",
      "metadata": {
        "colab": {
          "base_uri": "https://localhost:8080/"
        },
        "id": "6wikC7CGBc5n",
        "outputId": "66698a6a-56c7-4d3d-e291-720372372ceb"
      },
      "source": [
        "all_data['City'] = all_data['Purchase Address'].apply(city)\n",
        "all_data.info()"
      ],
      "execution_count": 36,
      "outputs": [
        {
          "output_type": "stream",
          "text": [
            "<class 'pandas.core.frame.DataFrame'>\n",
            "Int64Index: 185950 entries, 0 to 12035\n",
            "Data columns (total 9 columns):\n",
            " #   Column            Non-Null Count   Dtype  \n",
            "---  ------            --------------   -----  \n",
            " 0   Order ID          185950 non-null  object \n",
            " 1   Product           185950 non-null  object \n",
            " 2   Quantity Ordered  185950 non-null  int64  \n",
            " 3   Price Each        185950 non-null  float64\n",
            " 4   Order Date        185950 non-null  object \n",
            " 5   Purchase Address  185950 non-null  object \n",
            " 6   month             185950 non-null  int64  \n",
            " 7   sales             185950 non-null  float64\n",
            " 8   City              185950 non-null  object \n",
            "dtypes: float64(2), int64(2), object(5)\n",
            "memory usage: 14.2+ MB\n"
          ],
          "name": "stdout"
        }
      ]
    },
    {
      "cell_type": "code",
      "metadata": {
        "colab": {
          "base_uri": "https://localhost:8080/"
        },
        "id": "r33HLaHBC29U",
        "outputId": "9a54a1dc-f154-4b7a-d7ec-f96477a9588b"
      },
      "source": [
        "all_data['City'].unique()"
      ],
      "execution_count": 37,
      "outputs": [
        {
          "output_type": "execute_result",
          "data": {
            "text/plain": [
              "array([' Boston', ' Portland', ' San Francisco', ' Los Angeles',\n",
              "       ' Austin', ' Atlanta', ' Seattle', ' New York City', ' Dallas'],\n",
              "      dtype=object)"
            ]
          },
          "metadata": {
            "tags": []
          },
          "execution_count": 37
        }
      ]
    },
    {
      "cell_type": "code",
      "metadata": {
        "colab": {
          "base_uri": "https://localhost:8080/"
        },
        "id": "0Y9arkG-C-94",
        "outputId": "80112954-a85b-4aa6-ccc2-75a312ec1f9e"
      },
      "source": [
        "Total_sales_city = all_data.groupby(all_data['City'])['sales'].sum() #Group by city to obtain sales\n",
        "Total_sales_city"
      ],
      "execution_count": 38,
      "outputs": [
        {
          "output_type": "execute_result",
          "data": {
            "text/plain": [
              "City\n",
              " Atlanta          2.795499e+06\n",
              " Austin           1.819582e+06\n",
              " Boston           3.661642e+06\n",
              " Dallas           2.767975e+06\n",
              " Los Angeles      5.452571e+06\n",
              " New York City    4.664317e+06\n",
              " Portland         2.320491e+06\n",
              " San Francisco    8.262204e+06\n",
              " Seattle          2.747755e+06\n",
              "Name: sales, dtype: float64"
            ]
          },
          "metadata": {
            "tags": []
          },
          "execution_count": 38
        }
      ]
    },
    {
      "cell_type": "code",
      "metadata": {
        "colab": {
          "base_uri": "https://localhost:8080/",
          "height": 374
        },
        "id": "mzSfru0RDPH7",
        "outputId": "83cf0882-8228-4e32-86e2-53f62778540a"
      },
      "source": [
        "city_name = all_data['City'].unique()\n",
        "plt.bar(city_name,Total_sales_city)\n",
        "plt.xlabel('City')\n",
        "plt.ylabel('Total Sales')\n",
        "plt.title('Total sales per City in USA')\n",
        "plt.xticks(rotation=90)\n"
      ],
      "execution_count": 39,
      "outputs": [
        {
          "output_type": "execute_result",
          "data": {
            "text/plain": [
              "([0, 1, 2, 3, 4, 5, 6, 7, 8], <a list of 9 Text major ticklabel objects>)"
            ]
          },
          "metadata": {
            "tags": []
          },
          "execution_count": 39
        },
        {
          "output_type": "display_data",
          "data": {
            "image/png": "[encoded data removed]",
            "text/plain": [
              "<Figure size 432x288 with 1 Axes>"
            ]
          },
          "metadata": {
            "tags": [],
            "needs_background": "light"
          }
        }
      ]
    },
    {
      "cell_type": "markdown",
      "metadata": {
        "id": "wP9pSkldGzPD"
      },
      "source": [
        "#Time when product purchase is maximum"
      ]
    },
    {
      "cell_type": "code",
      "metadata": {
        "colab": {
          "base_uri": "https://localhost:8080/",
          "height": 203
        },
        "id": "kO3FiITyDdYC",
        "outputId": "cb0d30a4-e304-4c7c-a143-f6636f684e70"
      },
      "source": [
        "all_data.head()"
      ],
      "execution_count": 40,
      "outputs": [
        {
          "output_type": "execute_result",
          "data": {
            "text/html": [
              "<div>\n",
              "<style scoped>\n",
              "    .dataframe tbody tr th:only-of-type {\n",
              "        vertical-align: middle;\n",
              "    }\n",
              "\n",
              "    .dataframe tbody tr th {\n",
              "        vertical-align: top;\n",
              "    }\n",
              "\n",
              "    .dataframe thead th {\n",
              "        text-align: right;\n",
              "    }\n",
              "</style>\n",
              "<table border=\"1\" class=\"dataframe\">\n",
              "  <thead>\n",
              "    <tr style=\"text-align: right;\">\n",
              "      <th></th>\n",
              "      <th>Order ID</th>\n",
              "      <th>Product</th>\n",
              "      <th>Quantity Ordered</th>\n",
              "      <th>Price Each</th>\n",
              "      <th>Order Date</th>\n",
              "      <th>Purchase Address</th>\n",
              "      <th>month</th>\n",
              "      <th>sales</th>\n",
              "      <th>City</th>\n",
              "    </tr>\n",
              "  </thead>\n",
              "  <tbody>\n",
              "    <tr>\n",
              "      <th>0</th>\n",
              "      <td>141234</td>\n",
              "      <td>iPhone</td>\n",
              "      <td>1</td>\n",
              "      <td>700.00</td>\n",
              "      <td>01/22/19 21:25</td>\n",
              "      <td>944 Walnut St, Boston, MA 02215</td>\n",
              "      <td>1</td>\n",
              "      <td>700.00</td>\n",
              "      <td>Boston</td>\n",
              "    </tr>\n",
              "    <tr>\n",
              "      <th>1</th>\n",
              "      <td>141235</td>\n",
              "      <td>Lightning Charging Cable</td>\n",
              "      <td>1</td>\n",
              "      <td>14.95</td>\n",
              "      <td>01/28/19 14:15</td>\n",
              "      <td>185 Maple St, Portland, OR 97035</td>\n",
              "      <td>1</td>\n",
              "      <td>14.95</td>\n",
              "      <td>Portland</td>\n",
              "    </tr>\n",
              "    <tr>\n",
              "      <th>2</th>\n",
              "      <td>141236</td>\n",
              "      <td>Wired Headphones</td>\n",
              "      <td>2</td>\n",
              "      <td>11.99</td>\n",
              "      <td>01/17/19 13:33</td>\n",
              "      <td>538 Adams St, San Francisco, CA 94016</td>\n",
              "      <td>1</td>\n",
              "      <td>23.98</td>\n",
              "      <td>San Francisco</td>\n",
              "    </tr>\n",
              "    <tr>\n",
              "      <th>3</th>\n",
              "      <td>141237</td>\n",
              "      <td>27in FHD Monitor</td>\n",
              "      <td>1</td>\n",
              "      <td>149.99</td>\n",
              "      <td>01/05/19 20:33</td>\n",
              "      <td>738 10th St, Los Angeles, CA 90001</td>\n",
              "      <td>1</td>\n",
              "      <td>149.99</td>\n",
              "      <td>Los Angeles</td>\n",
              "    </tr>\n",
              "    <tr>\n",
              "      <th>4</th>\n",
              "      <td>141238</td>\n",
              "      <td>Wired Headphones</td>\n",
              "      <td>1</td>\n",
              "      <td>11.99</td>\n",
              "      <td>01/25/19 11:59</td>\n",
              "      <td>387 10th St, Austin, TX 73301</td>\n",
              "      <td>1</td>\n",
              "      <td>11.99</td>\n",
              "      <td>Austin</td>\n",
              "    </tr>\n",
              "  </tbody>\n",
              "</table>\n",
              "</div>"
            ],
            "text/plain": [
              "  Order ID                   Product  ...   sales            City\n",
              "0   141234                    iPhone  ...  700.00          Boston\n",
              "1   141235  Lightning Charging Cable  ...   14.95        Portland\n",
              "2   141236          Wired Headphones  ...   23.98   San Francisco\n",
              "3   141237          27in FHD Monitor  ...  149.99     Los Angeles\n",
              "4   141238          Wired Headphones  ...   11.99          Austin\n",
              "\n",
              "[5 rows x 9 columns]"
            ]
          },
          "metadata": {
            "tags": []
          },
          "execution_count": 40
        }
      ]
    },
    {
      "cell_type": "code",
      "metadata": {
        "colab": {
          "base_uri": "https://localhost:8080/"
        },
        "id": "zVZr8wkRHAXD",
        "outputId": "e010e585-49ec-4596-e04a-6c3ebdfe90f4"
      },
      "source": [
        "all_data['Order Date'].dtype "
      ],
      "execution_count": 41,
      "outputs": [
        {
          "output_type": "execute_result",
          "data": {
            "text/plain": [
              "dtype('O')"
            ]
          },
          "metadata": {
            "tags": []
          },
          "execution_count": 41
        }
      ]
    },
    {
      "cell_type": "code",
      "metadata": {
        "id": "X1IsBnXwHWni"
      },
      "source": [
        "#convert to date time \n",
        "all_data['Order Date'] = pd.to_datetime(all_data['Order Date'])"
      ],
      "execution_count": 42,
      "outputs": []
    },
    {
      "cell_type": "code",
      "metadata": {
        "colab": {
          "base_uri": "https://localhost:8080/"
        },
        "id": "FMElfPgGHuRU",
        "outputId": "8e0b440e-d1e9-4ad8-f118-cf776fc96622"
      },
      "source": [
        "all_data.info()"
      ],
      "execution_count": 43,
      "outputs": [
        {
          "output_type": "stream",
          "text": [
            "<class 'pandas.core.frame.DataFrame'>\n",
            "Int64Index: 185950 entries, 0 to 12035\n",
            "Data columns (total 9 columns):\n",
            " #   Column            Non-Null Count   Dtype         \n",
            "---  ------            --------------   -----         \n",
            " 0   Order ID          185950 non-null  object        \n",
            " 1   Product           185950 non-null  object        \n",
            " 2   Quantity Ordered  185950 non-null  int64         \n",
            " 3   Price Each        185950 non-null  float64       \n",
            " 4   Order Date        185950 non-null  datetime64[ns]\n",
            " 5   Purchase Address  185950 non-null  object        \n",
            " 6   month             185950 non-null  int64         \n",
            " 7   sales             185950 non-null  float64       \n",
            " 8   City              185950 non-null  object        \n",
            "dtypes: datetime64[ns](1), float64(2), int64(2), object(4)\n",
            "memory usage: 14.2+ MB\n"
          ],
          "name": "stdout"
        }
      ]
    },
    {
      "cell_type": "code",
      "metadata": {
        "id": "UzMPG2sQH09d"
      },
      "source": [
        " all_data['Hour'] = pd.to_datetime(all_data['Order Date']).dt.hour#get hour columns"
      ],
      "execution_count": 44,
      "outputs": []
    },
    {
      "cell_type": "code",
      "metadata": {
        "colab": {
          "base_uri": "https://localhost:8080/",
          "height": 203
        },
        "id": "FwWnEm_RIG7i",
        "outputId": "353c0952-19be-442b-b70b-7420264f91a4"
      },
      "source": [
        "all_data.head() #hour column is added"
      ],
      "execution_count": 45,
      "outputs": [
        {
          "output_type": "execute_result",
          "data": {
            "text/html": [
              "<div>\n",
              "<style scoped>\n",
              "    .dataframe tbody tr th:only-of-type {\n",
              "        vertical-align: middle;\n",
              "    }\n",
              "\n",
              "    .dataframe tbody tr th {\n",
              "        vertical-align: top;\n",
              "    }\n",
              "\n",
              "    .dataframe thead th {\n",
              "        text-align: right;\n",
              "    }\n",
              "</style>\n",
              "<table border=\"1\" class=\"dataframe\">\n",
              "  <thead>\n",
              "    <tr style=\"text-align: right;\">\n",
              "      <th></th>\n",
              "      <th>Order ID</th>\n",
              "      <th>Product</th>\n",
              "      <th>Quantity Ordered</th>\n",
              "      <th>Price Each</th>\n",
              "      <th>Order Date</th>\n",
              "      <th>Purchase Address</th>\n",
              "      <th>month</th>\n",
              "      <th>sales</th>\n",
              "      <th>City</th>\n",
              "      <th>Hour</th>\n",
              "    </tr>\n",
              "  </thead>\n",
              "  <tbody>\n",
              "    <tr>\n",
              "      <th>0</th>\n",
              "      <td>141234</td>\n",
              "      <td>iPhone</td>\n",
              "      <td>1</td>\n",
              "      <td>700.00</td>\n",
              "      <td>2019-01-22 21:25:00</td>\n",
              "      <td>944 Walnut St, Boston, MA 02215</td>\n",
              "      <td>1</td>\n",
              "      <td>700.00</td>\n",
              "      <td>Boston</td>\n",
              "      <td>21</td>\n",
              "    </tr>\n",
              "    <tr>\n",
              "      <th>1</th>\n",
              "      <td>141235</td>\n",
              "      <td>Lightning Charging Cable</td>\n",
              "      <td>1</td>\n",
              "      <td>14.95</td>\n",
              "      <td>2019-01-28 14:15:00</td>\n",
              "      <td>185 Maple St, Portland, OR 97035</td>\n",
              "      <td>1</td>\n",
              "      <td>14.95</td>\n",
              "      <td>Portland</td>\n",
              "      <td>14</td>\n",
              "    </tr>\n",
              "    <tr>\n",
              "      <th>2</th>\n",
              "      <td>141236</td>\n",
              "      <td>Wired Headphones</td>\n",
              "      <td>2</td>\n",
              "      <td>11.99</td>\n",
              "      <td>2019-01-17 13:33:00</td>\n",
              "      <td>538 Adams St, San Francisco, CA 94016</td>\n",
              "      <td>1</td>\n",
              "      <td>23.98</td>\n",
              "      <td>San Francisco</td>\n",
              "      <td>13</td>\n",
              "    </tr>\n",
              "    <tr>\n",
              "      <th>3</th>\n",
              "      <td>141237</td>\n",
              "      <td>27in FHD Monitor</td>\n",
              "      <td>1</td>\n",
              "      <td>149.99</td>\n",
              "      <td>2019-01-05 20:33:00</td>\n",
              "      <td>738 10th St, Los Angeles, CA 90001</td>\n",
              "      <td>1</td>\n",
              "      <td>149.99</td>\n",
              "      <td>Los Angeles</td>\n",
              "      <td>20</td>\n",
              "    </tr>\n",
              "    <tr>\n",
              "      <th>4</th>\n",
              "      <td>141238</td>\n",
              "      <td>Wired Headphones</td>\n",
              "      <td>1</td>\n",
              "      <td>11.99</td>\n",
              "      <td>2019-01-25 11:59:00</td>\n",
              "      <td>387 10th St, Austin, TX 73301</td>\n",
              "      <td>1</td>\n",
              "      <td>11.99</td>\n",
              "      <td>Austin</td>\n",
              "      <td>11</td>\n",
              "    </tr>\n",
              "  </tbody>\n",
              "</table>\n",
              "</div>"
            ],
            "text/plain": [
              "  Order ID                   Product  ...            City  Hour\n",
              "0   141234                    iPhone  ...          Boston    21\n",
              "1   141235  Lightning Charging Cable  ...        Portland    14\n",
              "2   141236          Wired Headphones  ...   San Francisco    13\n",
              "3   141237          27in FHD Monitor  ...     Los Angeles    20\n",
              "4   141238          Wired Headphones  ...          Austin    11\n",
              "\n",
              "[5 rows x 10 columns]"
            ]
          },
          "metadata": {
            "tags": []
          },
          "execution_count": 45
        }
      ]
    },
    {
      "cell_type": "code",
      "metadata": {
        "colab": {
          "base_uri": "https://localhost:8080/"
        },
        "id": "6a7JXxC_I_hU",
        "outputId": "63639a14-5904-4fe3-daf4-dc1370e60a9e"
      },
      "source": [
        "Total_Order_perhour = all_data.groupby(all_data['Hour'])['Hour'].count() #Group by hour\n",
        "Total_Order_perhour"
      ],
      "execution_count": 46,
      "outputs": [
        {
          "output_type": "execute_result",
          "data": {
            "text/plain": [
              "Hour\n",
              "0      3910\n",
              "1      2350\n",
              "2      1243\n",
              "3       831\n",
              "4       854\n",
              "5      1321\n",
              "6      2482\n",
              "7      4011\n",
              "8      6256\n",
              "9      8748\n",
              "10    10944\n",
              "11    12411\n",
              "12    12587\n",
              "13    12129\n",
              "14    10984\n",
              "15    10175\n",
              "16    10384\n",
              "17    10899\n",
              "18    12280\n",
              "19    12905\n",
              "20    12228\n",
              "21    10921\n",
              "22     8822\n",
              "23     6275\n",
              "Name: Hour, dtype: int64"
            ]
          },
          "metadata": {
            "tags": []
          },
          "execution_count": 46
        }
      ]
    },
    {
      "cell_type": "code",
      "metadata": {
        "colab": {
          "base_uri": "https://localhost:8080/"
        },
        "id": "rpnTujQxIJEw",
        "outputId": "e0c8b669-694b-4f74-d432-e3a46fd9c4e2"
      },
      "source": [
        "keys=[]\n",
        "hour=[]\n",
        "for key,hour_df in all_data.groupby('Hour'):\n",
        "  keys.append(key)\n",
        "  print(key)\n",
        "  hour.append(len(hour_df))\n",
        "  print(len(hour_df))"
      ],
      "execution_count": 47,
      "outputs": [
        {
          "output_type": "stream",
          "text": [
            "0\n",
            "3910\n",
            "1\n",
            "2350\n",
            "2\n",
            "1243\n",
            "3\n",
            "831\n",
            "4\n",
            "854\n",
            "5\n",
            "1321\n",
            "6\n",
            "2482\n",
            "7\n",
            "4011\n",
            "8\n",
            "6256\n",
            "9\n",
            "8748\n",
            "10\n",
            "10944\n",
            "11\n",
            "12411\n",
            "12\n",
            "12587\n",
            "13\n",
            "12129\n",
            "14\n",
            "10984\n",
            "15\n",
            "10175\n",
            "16\n",
            "10384\n",
            "17\n",
            "10899\n",
            "18\n",
            "12280\n",
            "19\n",
            "12905\n",
            "20\n",
            "12228\n",
            "21\n",
            "10921\n",
            "22\n",
            "8822\n",
            "23\n",
            "6275\n"
          ],
          "name": "stdout"
        }
      ]
    },
    {
      "cell_type": "code",
      "metadata": {
        "colab": {
          "base_uri": "https://localhost:8080/",
          "height": 312
        },
        "id": "dK_5sMnIKFP3",
        "outputId": "57fe99d2-61a9-4a1c-e578-427dead58a97"
      },
      "source": [
        "plt.plot(keys,hour)\n",
        "plt.xlabel('Hour')\n",
        "plt.ylabel('Total Order')\n",
        "plt.title('Total order per hour')"
      ],
      "execution_count": 48,
      "outputs": [
        {
          "output_type": "execute_result",
          "data": {
            "text/plain": [
              "Text(0.5, 1.0, 'Total order per hour')"
            ]
          },
          "metadata": {
            "tags": []
          },
          "execution_count": 48
        },
        {
          "output_type": "display_data",
          "data": {
            "image/png": "[encoded data removed]",
            "text/plain": [
              "<Figure size 432x288 with 1 Axes>"
            ]
          },
          "metadata": {
            "tags": [],
            "needs_background": "light"
          }
        }
      ]
    },
    {
      "cell_type": "markdown",
      "metadata": {
        "id": "m3eCE5upO8HN"
      },
      "source": [
        "FInd which product sold most"
      ]
    },
    {
      "cell_type": "code",
      "metadata": {
        "colab": {
          "base_uri": "https://localhost:8080/",
          "height": 437
        },
        "id": "RJVSZn-EMP7P",
        "outputId": "cb681fd5-0afd-4b43-c79b-4ba089ba9ccf"
      },
      "source": [
        "all_data.groupby('Product')['Quantity Ordered'].sum().plot(kind='bar')"
      ],
      "execution_count": 49,
      "outputs": [
        {
          "output_type": "execute_result",
          "data": {
            "text/plain": [
              "<matplotlib.axes._subplots.AxesSubplot at 0x7fe40a6bb750>"
            ]
          },
          "metadata": {
            "tags": []
          },
          "execution_count": 49
        },
        {
          "output_type": "display_data",
          "data": {
            "image/png": "[encoded data removed]",
            "text/plain": [
              "<Figure size 432x288 with 1 Axes>"
            ]
          },
          "metadata": {
            "tags": [],
            "needs_background": "light"
          }
        }
      ]
    },
    {
      "cell_type": "code",
      "metadata": {
        "colab": {
          "base_uri": "https://localhost:8080/"
        },
        "id": "1SZblRFPPNQs",
        "outputId": "a1fe2e53-63d5-4437-fd09-f9f7dfca0742"
      },
      "source": [
        "all_data.groupby('Product')['Price Each'].mean()"
      ],
      "execution_count": 50,
      "outputs": [
        {
          "output_type": "execute_result",
          "data": {
            "text/plain": [
              "Product\n",
              "20in Monitor                   109.99\n",
              "27in 4K Gaming Monitor         389.99\n",
              "27in FHD Monitor               149.99\n",
              "34in Ultrawide Monitor         379.99\n",
              "AA Batteries (4-pack)            3.84\n",
              "AAA Batteries (4-pack)           2.99\n",
              "Apple Airpods Headphones       150.00\n",
              "Bose SoundSport Headphones      99.99\n",
              "Flatscreen TV                  300.00\n",
              "Google Phone                   600.00\n",
              "LG Dryer                       600.00\n",
              "LG Washing Machine             600.00\n",
              "Lightning Charging Cable        14.95\n",
              "Macbook Pro Laptop            1700.00\n",
              "ThinkPad Laptop                999.99\n",
              "USB-C Charging Cable            11.95\n",
              "Vareebadd Phone                400.00\n",
              "Wired Headphones                11.99\n",
              "iPhone                         700.00\n",
              "Name: Price Each, dtype: float64"
            ]
          },
          "metadata": {
            "tags": []
          },
          "execution_count": 50
        }
      ]
    },
    {
      "cell_type": "code",
      "metadata": {
        "id": "JNVhUg0rPmbD"
      },
      "source": [
        "products = all_data.groupby('Product')['Quantity Ordered'].sum().index\n",
        "quantity = all_data.groupby('Product')['Quantity Ordered'].sum()\n",
        "prices = all_data.groupby('Product')['Price Each'].mean()"
      ],
      "execution_count": 51,
      "outputs": []
    },
    {
      "cell_type": "code",
      "metadata": {
        "colab": {
          "base_uri": "https://localhost:8080/"
        },
        "id": "dxBJ0BzrRpOT",
        "outputId": "8d2a0de1-47ad-49a8-f8f8-ee5459b3869b"
      },
      "source": [
        "products"
      ],
      "execution_count": 52,
      "outputs": [
        {
          "output_type": "execute_result",
          "data": {
            "text/plain": [
              "Index(['20in Monitor', '27in 4K Gaming Monitor', '27in FHD Monitor',\n",
              "       '34in Ultrawide Monitor', 'AA Batteries (4-pack)',\n",
              "       'AAA Batteries (4-pack)', 'Apple Airpods Headphones',\n",
              "       'Bose SoundSport Headphones', 'Flatscreen TV', 'Google Phone',\n",
              "       'LG Dryer', 'LG Washing Machine', 'Lightning Charging Cable',\n",
              "       'Macbook Pro Laptop', 'ThinkPad Laptop', 'USB-C Charging Cable',\n",
              "       'Vareebadd Phone', 'Wired Headphones', 'iPhone'],\n",
              "      dtype='object', name='Product')"
            ]
          },
          "metadata": {
            "tags": []
          },
          "execution_count": 52
        }
      ]
    },
    {
      "cell_type": "code",
      "metadata": {
        "colab": {
          "base_uri": "https://localhost:8080/"
        },
        "id": "TmrfDJs8SHvL",
        "outputId": "e2503c1b-4276-44ac-8888-1c54210ee00f"
      },
      "source": [
        "quantity"
      ],
      "execution_count": 53,
      "outputs": [
        {
          "output_type": "execute_result",
          "data": {
            "text/plain": [
              "Product\n",
              "20in Monitor                   4129\n",
              "27in 4K Gaming Monitor         6244\n",
              "27in FHD Monitor               7550\n",
              "34in Ultrawide Monitor         6199\n",
              "AA Batteries (4-pack)         27635\n",
              "AAA Batteries (4-pack)        31017\n",
              "Apple Airpods Headphones      15661\n",
              "Bose SoundSport Headphones    13457\n",
              "Flatscreen TV                  4819\n",
              "Google Phone                   5532\n",
              "LG Dryer                        646\n",
              "LG Washing Machine              666\n",
              "Lightning Charging Cable      23217\n",
              "Macbook Pro Laptop             4728\n",
              "ThinkPad Laptop                4130\n",
              "USB-C Charging Cable          23975\n",
              "Vareebadd Phone                2068\n",
              "Wired Headphones              20557\n",
              "iPhone                         6849\n",
              "Name: Quantity Ordered, dtype: int64"
            ]
          },
          "metadata": {
            "tags": []
          },
          "execution_count": 53
        }
      ]
    },
    {
      "cell_type": "code",
      "metadata": {
        "colab": {
          "base_uri": "https://localhost:8080/"
        },
        "id": "YG5ttxRQSKkg",
        "outputId": "6795200f-7535-4a80-fab5-5dfa5ba736ab"
      },
      "source": [
        "prices"
      ],
      "execution_count": 54,
      "outputs": [
        {
          "output_type": "execute_result",
          "data": {
            "text/plain": [
              "Product\n",
              "20in Monitor                   109.99\n",
              "27in 4K Gaming Monitor         389.99\n",
              "27in FHD Monitor               149.99\n",
              "34in Ultrawide Monitor         379.99\n",
              "AA Batteries (4-pack)            3.84\n",
              "AAA Batteries (4-pack)           2.99\n",
              "Apple Airpods Headphones       150.00\n",
              "Bose SoundSport Headphones      99.99\n",
              "Flatscreen TV                  300.00\n",
              "Google Phone                   600.00\n",
              "LG Dryer                       600.00\n",
              "LG Washing Machine             600.00\n",
              "Lightning Charging Cable        14.95\n",
              "Macbook Pro Laptop            1700.00\n",
              "ThinkPad Laptop                999.99\n",
              "USB-C Charging Cable            11.95\n",
              "Vareebadd Phone                400.00\n",
              "Wired Headphones                11.99\n",
              "iPhone                         700.00\n",
              "Name: Price Each, dtype: float64"
            ]
          },
          "metadata": {
            "tags": []
          },
          "execution_count": 54
        }
      ]
    },
    {
      "cell_type": "code",
      "metadata": {
        "colab": {
          "base_uri": "https://localhost:8080/",
          "height": 406
        },
        "id": "1aQDfChpSM2J",
        "outputId": "7a5bbb20-66d2-4ef0-8a2b-79fa0b13e7c7"
      },
      "source": [
        "#n the Axes Module, there is a function named Axes.twinx() function which is used to create a twin Axes that are sharing the x-axis. Similarly, the function twiny() is used to create a second x axis in your figure, which means twin axes sharing the y-axis.\n",
        "%matplotlib inline\n",
        "fig,ax1=plt.subplots()\n",
        "ax2=ax1.twinx()\n",
        "curve2 = ax2.bar(products,quantity,color='g')\n",
        "curve1 = ax1.plot(products,prices,color='r')\n",
        "ax1.set_xticklabels(products,rotation='vertical')\n",
        "plt.plot()\n",
        "plt.show()"
      ],
      "execution_count": 55,
      "outputs": [
        {
          "output_type": "display_data",
          "data": {
            "image/png": "[encoded data removed]",
            "text/plain": [
              "<Figure size 432x288 with 2 Axes>"
            ]
          },
          "metadata": {
            "tags": [],
            "needs_background": "light"
          }
        }
      ]
    },
    {
      "cell_type": "markdown",
      "metadata": {
        "id": "ix3VWa1jW9DU"
      },
      "source": [
        "#Products sold together i.e. same ordered ID"
      ]
    },
    {
      "cell_type": "code",
      "metadata": {
        "colab": {
          "base_uri": "https://localhost:8080/",
          "height": 203
        },
        "id": "NihE1SLZScp9",
        "outputId": "4826c162-9182-4754-b03d-cbe203ffc383"
      },
      "source": [
        "all_data.head()"
      ],
      "execution_count": 56,
      "outputs": [
        {
          "output_type": "execute_result",
          "data": {
            "text/html": [
              "<div>\n",
              "<style scoped>\n",
              "    .dataframe tbody tr th:only-of-type {\n",
              "        vertical-align: middle;\n",
              "    }\n",
              "\n",
              "    .dataframe tbody tr th {\n",
              "        vertical-align: top;\n",
              "    }\n",
              "\n",
              "    .dataframe thead th {\n",
              "        text-align: right;\n",
              "    }\n",
              "</style>\n",
              "<table border=\"1\" class=\"dataframe\">\n",
              "  <thead>\n",
              "    <tr style=\"text-align: right;\">\n",
              "      <th></th>\n",
              "      <th>Order ID</th>\n",
              "      <th>Product</th>\n",
              "      <th>Quantity Ordered</th>\n",
              "      <th>Price Each</th>\n",
              "      <th>Order Date</th>\n",
              "      <th>Purchase Address</th>\n",
              "      <th>month</th>\n",
              "      <th>sales</th>\n",
              "      <th>City</th>\n",
              "      <th>Hour</th>\n",
              "    </tr>\n",
              "  </thead>\n",
              "  <tbody>\n",
              "    <tr>\n",
              "      <th>0</th>\n",
              "      <td>141234</td>\n",
              "      <td>iPhone</td>\n",
              "      <td>1</td>\n",
              "      <td>700.00</td>\n",
              "      <td>2019-01-22 21:25:00</td>\n",
              "      <td>944 Walnut St, Boston, MA 02215</td>\n",
              "      <td>1</td>\n",
              "      <td>700.00</td>\n",
              "      <td>Boston</td>\n",
              "      <td>21</td>\n",
              "    </tr>\n",
              "    <tr>\n",
              "      <th>1</th>\n",
              "      <td>141235</td>\n",
              "      <td>Lightning Charging Cable</td>\n",
              "      <td>1</td>\n",
              "      <td>14.95</td>\n",
              "      <td>2019-01-28 14:15:00</td>\n",
              "      <td>185 Maple St, Portland, OR 97035</td>\n",
              "      <td>1</td>\n",
              "      <td>14.95</td>\n",
              "      <td>Portland</td>\n",
              "      <td>14</td>\n",
              "    </tr>\n",
              "    <tr>\n",
              "      <th>2</th>\n",
              "      <td>141236</td>\n",
              "      <td>Wired Headphones</td>\n",
              "      <td>2</td>\n",
              "      <td>11.99</td>\n",
              "      <td>2019-01-17 13:33:00</td>\n",
              "      <td>538 Adams St, San Francisco, CA 94016</td>\n",
              "      <td>1</td>\n",
              "      <td>23.98</td>\n",
              "      <td>San Francisco</td>\n",
              "      <td>13</td>\n",
              "    </tr>\n",
              "    <tr>\n",
              "      <th>3</th>\n",
              "      <td>141237</td>\n",
              "      <td>27in FHD Monitor</td>\n",
              "      <td>1</td>\n",
              "      <td>149.99</td>\n",
              "      <td>2019-01-05 20:33:00</td>\n",
              "      <td>738 10th St, Los Angeles, CA 90001</td>\n",
              "      <td>1</td>\n",
              "      <td>149.99</td>\n",
              "      <td>Los Angeles</td>\n",
              "      <td>20</td>\n",
              "    </tr>\n",
              "    <tr>\n",
              "      <th>4</th>\n",
              "      <td>141238</td>\n",
              "      <td>Wired Headphones</td>\n",
              "      <td>1</td>\n",
              "      <td>11.99</td>\n",
              "      <td>2019-01-25 11:59:00</td>\n",
              "      <td>387 10th St, Austin, TX 73301</td>\n",
              "      <td>1</td>\n",
              "      <td>11.99</td>\n",
              "      <td>Austin</td>\n",
              "      <td>11</td>\n",
              "    </tr>\n",
              "  </tbody>\n",
              "</table>\n",
              "</div>"
            ],
            "text/plain": [
              "  Order ID                   Product  ...            City  Hour\n",
              "0   141234                    iPhone  ...          Boston    21\n",
              "1   141235  Lightning Charging Cable  ...        Portland    14\n",
              "2   141236          Wired Headphones  ...   San Francisco    13\n",
              "3   141237          27in FHD Monitor  ...     Los Angeles    20\n",
              "4   141238          Wired Headphones  ...          Austin    11\n",
              "\n",
              "[5 rows x 10 columns]"
            ]
          },
          "metadata": {
            "tags": []
          },
          "execution_count": 56
        }
      ]
    },
    {
      "cell_type": "code",
      "metadata": {
        "colab": {
          "base_uri": "https://localhost:8080/",
          "height": 203
        },
        "id": "gG-8tsQ1Xd75",
        "outputId": "1ba8b1e3-6c22-45e7-a657-866f8b89ebbb"
      },
      "source": [
        "\"\"\"\n",
        "subset: Takes a column or list of column label. It’s default value is none. After passing columns, it will consider them only for duplicates.\n",
        "keep: Controls how to consider duplicate value. It has only three distinct value and default is ‘first’.\n",
        "\n",
        "–> If ‘first’, it considers first value as unique and rest of the same values as duplicate.\n",
        "–> If ‘last’, it considers last value as unique and rest of the same values as duplicate.\n",
        "–> If False, it consider all of the same values as duplicates.\n",
        "\"\"\"\n",
        "\n",
        "df=all_data['Order ID'].duplicated(keep=False)\n",
        "df2=all_data[df]\n",
        "df2.head()"
      ],
      "execution_count": 57,
      "outputs": [
        {
          "output_type": "execute_result",
          "data": {
            "text/html": [
              "<div>\n",
              "<style scoped>\n",
              "    .dataframe tbody tr th:only-of-type {\n",
              "        vertical-align: middle;\n",
              "    }\n",
              "\n",
              "    .dataframe tbody tr th {\n",
              "        vertical-align: top;\n",
              "    }\n",
              "\n",
              "    .dataframe thead th {\n",
              "        text-align: right;\n",
              "    }\n",
              "</style>\n",
              "<table border=\"1\" class=\"dataframe\">\n",
              "  <thead>\n",
              "    <tr style=\"text-align: right;\">\n",
              "      <th></th>\n",
              "      <th>Order ID</th>\n",
              "      <th>Product</th>\n",
              "      <th>Quantity Ordered</th>\n",
              "      <th>Price Each</th>\n",
              "      <th>Order Date</th>\n",
              "      <th>Purchase Address</th>\n",
              "      <th>month</th>\n",
              "      <th>sales</th>\n",
              "      <th>City</th>\n",
              "      <th>Hour</th>\n",
              "    </tr>\n",
              "  </thead>\n",
              "  <tbody>\n",
              "    <tr>\n",
              "      <th>41</th>\n",
              "      <td>141275</td>\n",
              "      <td>USB-C Charging Cable</td>\n",
              "      <td>1</td>\n",
              "      <td>11.95</td>\n",
              "      <td>2019-01-07 16:06:00</td>\n",
              "      <td>610 Walnut St, Austin, TX 73301</td>\n",
              "      <td>1</td>\n",
              "      <td>11.95</td>\n",
              "      <td>Austin</td>\n",
              "      <td>16</td>\n",
              "    </tr>\n",
              "    <tr>\n",
              "      <th>42</th>\n",
              "      <td>141275</td>\n",
              "      <td>Wired Headphones</td>\n",
              "      <td>1</td>\n",
              "      <td>11.99</td>\n",
              "      <td>2019-01-07 16:06:00</td>\n",
              "      <td>610 Walnut St, Austin, TX 73301</td>\n",
              "      <td>1</td>\n",
              "      <td>11.99</td>\n",
              "      <td>Austin</td>\n",
              "      <td>16</td>\n",
              "    </tr>\n",
              "    <tr>\n",
              "      <th>57</th>\n",
              "      <td>141290</td>\n",
              "      <td>Apple Airpods Headphones</td>\n",
              "      <td>1</td>\n",
              "      <td>150.00</td>\n",
              "      <td>2019-01-02 08:25:00</td>\n",
              "      <td>4 1st St, Los Angeles, CA 90001</td>\n",
              "      <td>1</td>\n",
              "      <td>150.00</td>\n",
              "      <td>Los Angeles</td>\n",
              "      <td>8</td>\n",
              "    </tr>\n",
              "    <tr>\n",
              "      <th>58</th>\n",
              "      <td>141290</td>\n",
              "      <td>AA Batteries (4-pack)</td>\n",
              "      <td>3</td>\n",
              "      <td>3.84</td>\n",
              "      <td>2019-01-02 08:25:00</td>\n",
              "      <td>4 1st St, Los Angeles, CA 90001</td>\n",
              "      <td>1</td>\n",
              "      <td>11.52</td>\n",
              "      <td>Los Angeles</td>\n",
              "      <td>8</td>\n",
              "    </tr>\n",
              "    <tr>\n",
              "      <th>133</th>\n",
              "      <td>141365</td>\n",
              "      <td>Vareebadd Phone</td>\n",
              "      <td>1</td>\n",
              "      <td>400.00</td>\n",
              "      <td>2019-01-10 11:19:00</td>\n",
              "      <td>20 Dogwood St, New York City, NY 10001</td>\n",
              "      <td>1</td>\n",
              "      <td>400.00</td>\n",
              "      <td>New York City</td>\n",
              "      <td>11</td>\n",
              "    </tr>\n",
              "  </tbody>\n",
              "</table>\n",
              "</div>"
            ],
            "text/plain": [
              "    Order ID                   Product  ...            City  Hour\n",
              "41    141275      USB-C Charging Cable  ...          Austin    16\n",
              "42    141275          Wired Headphones  ...          Austin    16\n",
              "57    141290  Apple Airpods Headphones  ...     Los Angeles     8\n",
              "58    141290     AA Batteries (4-pack)  ...     Los Angeles     8\n",
              "133   141365           Vareebadd Phone  ...   New York City    11\n",
              "\n",
              "[5 rows x 10 columns]"
            ]
          },
          "metadata": {
            "tags": []
          },
          "execution_count": 57
        }
      ]
    },
    {
      "cell_type": "code",
      "metadata": {
        "colab": {
          "base_uri": "https://localhost:8080/",
          "height": 405
        },
        "id": "R9U3RvwyYC-v",
        "outputId": "6cdf6be2-82bb-46db-9479-bf5c1d15de85"
      },
      "source": [
        "\"\"\"\n",
        "A lambda function is a single-line function declared with no name, which can have any number of arguments,\n",
        "but it can only have one expression. Such a function is capable of behaving similarly to a regular function declared using the Python's def keyword\n",
        "\"\"\"\n",
        "df2['Grouped'] = df2.groupby('Order ID')['Product'].transform(lambda x:','.join(x))\n",
        "df2.head() # we see data repeated"
      ],
      "execution_count": 58,
      "outputs": [
        {
          "output_type": "stream",
          "text": [
            "/usr/local/lib/python3.7/dist-packages/ipykernel_launcher.py:5: SettingWithCopyWarning: \n",
            "A value is trying to be set on a copy of a slice from a DataFrame.\n",
            "Try using .loc[row_indexer,col_indexer] = value instead\n",
            "\n",
            "See the caveats in the documentation: https://pandas.pydata.org/pandas-docs/stable/user_guide/indexing.html#returning-a-view-versus-a-copy\n",
            "  \"\"\"\n"
          ],
          "name": "stderr"
        },
        {
          "output_type": "execute_result",
          "data": {
            "text/html": [
              "<div>\n",
              "<style scoped>\n",
              "    .dataframe tbody tr th:only-of-type {\n",
              "        vertical-align: middle;\n",
              "    }\n",
              "\n",
              "    .dataframe tbody tr th {\n",
              "        vertical-align: top;\n",
              "    }\n",
              "\n",
              "    .dataframe thead th {\n",
              "        text-align: right;\n",
              "    }\n",
              "</style>\n",
              "<table border=\"1\" class=\"dataframe\">\n",
              "  <thead>\n",
              "    <tr style=\"text-align: right;\">\n",
              "      <th></th>\n",
              "      <th>Order ID</th>\n",
              "      <th>Product</th>\n",
              "      <th>Quantity Ordered</th>\n",
              "      <th>Price Each</th>\n",
              "      <th>Order Date</th>\n",
              "      <th>Purchase Address</th>\n",
              "      <th>month</th>\n",
              "      <th>sales</th>\n",
              "      <th>City</th>\n",
              "      <th>Hour</th>\n",
              "      <th>Grouped</th>\n",
              "    </tr>\n",
              "  </thead>\n",
              "  <tbody>\n",
              "    <tr>\n",
              "      <th>41</th>\n",
              "      <td>141275</td>\n",
              "      <td>USB-C Charging Cable</td>\n",
              "      <td>1</td>\n",
              "      <td>11.95</td>\n",
              "      <td>2019-01-07 16:06:00</td>\n",
              "      <td>610 Walnut St, Austin, TX 73301</td>\n",
              "      <td>1</td>\n",
              "      <td>11.95</td>\n",
              "      <td>Austin</td>\n",
              "      <td>16</td>\n",
              "      <td>USB-C Charging Cable,Wired Headphones</td>\n",
              "    </tr>\n",
              "    <tr>\n",
              "      <th>42</th>\n",
              "      <td>141275</td>\n",
              "      <td>Wired Headphones</td>\n",
              "      <td>1</td>\n",
              "      <td>11.99</td>\n",
              "      <td>2019-01-07 16:06:00</td>\n",
              "      <td>610 Walnut St, Austin, TX 73301</td>\n",
              "      <td>1</td>\n",
              "      <td>11.99</td>\n",
              "      <td>Austin</td>\n",
              "      <td>16</td>\n",
              "      <td>USB-C Charging Cable,Wired Headphones</td>\n",
              "    </tr>\n",
              "    <tr>\n",
              "      <th>57</th>\n",
              "      <td>141290</td>\n",
              "      <td>Apple Airpods Headphones</td>\n",
              "      <td>1</td>\n",
              "      <td>150.00</td>\n",
              "      <td>2019-01-02 08:25:00</td>\n",
              "      <td>4 1st St, Los Angeles, CA 90001</td>\n",
              "      <td>1</td>\n",
              "      <td>150.00</td>\n",
              "      <td>Los Angeles</td>\n",
              "      <td>8</td>\n",
              "      <td>Apple Airpods Headphones,AA Batteries (4-pack)</td>\n",
              "    </tr>\n",
              "    <tr>\n",
              "      <th>58</th>\n",
              "      <td>141290</td>\n",
              "      <td>AA Batteries (4-pack)</td>\n",
              "      <td>3</td>\n",
              "      <td>3.84</td>\n",
              "      <td>2019-01-02 08:25:00</td>\n",
              "      <td>4 1st St, Los Angeles, CA 90001</td>\n",
              "      <td>1</td>\n",
              "      <td>11.52</td>\n",
              "      <td>Los Angeles</td>\n",
              "      <td>8</td>\n",
              "      <td>Apple Airpods Headphones,AA Batteries (4-pack)</td>\n",
              "    </tr>\n",
              "    <tr>\n",
              "      <th>133</th>\n",
              "      <td>141365</td>\n",
              "      <td>Vareebadd Phone</td>\n",
              "      <td>1</td>\n",
              "      <td>400.00</td>\n",
              "      <td>2019-01-10 11:19:00</td>\n",
              "      <td>20 Dogwood St, New York City, NY 10001</td>\n",
              "      <td>1</td>\n",
              "      <td>400.00</td>\n",
              "      <td>New York City</td>\n",
              "      <td>11</td>\n",
              "      <td>Vareebadd Phone,Wired Headphones</td>\n",
              "    </tr>\n",
              "  </tbody>\n",
              "</table>\n",
              "</div>"
            ],
            "text/plain": [
              "    Order ID  ...                                         Grouped\n",
              "41    141275  ...           USB-C Charging Cable,Wired Headphones\n",
              "42    141275  ...           USB-C Charging Cable,Wired Headphones\n",
              "57    141290  ...  Apple Airpods Headphones,AA Batteries (4-pack)\n",
              "58    141290  ...  Apple Airpods Headphones,AA Batteries (4-pack)\n",
              "133   141365  ...                Vareebadd Phone,Wired Headphones\n",
              "\n",
              "[5 rows x 11 columns]"
            ]
          },
          "metadata": {
            "tags": []
          },
          "execution_count": 58
        }
      ]
    },
    {
      "cell_type": "code",
      "metadata": {
        "colab": {
          "base_uri": "https://localhost:8080/",
          "height": 304
        },
        "id": "R4UaM4DKZo6e",
        "outputId": "12f77739-e1ae-4c18-f8da-4ab0039895f3"
      },
      "source": [
        "df2=df2.drop_duplicates(subset=['Order ID'])\n",
        "df2.head()"
      ],
      "execution_count": 59,
      "outputs": [
        {
          "output_type": "execute_result",
          "data": {
            "text/html": [
              "<div>\n",
              "<style scoped>\n",
              "    .dataframe tbody tr th:only-of-type {\n",
              "        vertical-align: middle;\n",
              "    }\n",
              "\n",
              "    .dataframe tbody tr th {\n",
              "        vertical-align: top;\n",
              "    }\n",
              "\n",
              "    .dataframe thead th {\n",
              "        text-align: right;\n",
              "    }\n",
              "</style>\n",
              "<table border=\"1\" class=\"dataframe\">\n",
              "  <thead>\n",
              "    <tr style=\"text-align: right;\">\n",
              "      <th></th>\n",
              "      <th>Order ID</th>\n",
              "      <th>Product</th>\n",
              "      <th>Quantity Ordered</th>\n",
              "      <th>Price Each</th>\n",
              "      <th>Order Date</th>\n",
              "      <th>Purchase Address</th>\n",
              "      <th>month</th>\n",
              "      <th>sales</th>\n",
              "      <th>City</th>\n",
              "      <th>Hour</th>\n",
              "      <th>Grouped</th>\n",
              "    </tr>\n",
              "  </thead>\n",
              "  <tbody>\n",
              "    <tr>\n",
              "      <th>41</th>\n",
              "      <td>141275</td>\n",
              "      <td>USB-C Charging Cable</td>\n",
              "      <td>1</td>\n",
              "      <td>11.95</td>\n",
              "      <td>2019-01-07 16:06:00</td>\n",
              "      <td>610 Walnut St, Austin, TX 73301</td>\n",
              "      <td>1</td>\n",
              "      <td>11.95</td>\n",
              "      <td>Austin</td>\n",
              "      <td>16</td>\n",
              "      <td>USB-C Charging Cable,Wired Headphones</td>\n",
              "    </tr>\n",
              "    <tr>\n",
              "      <th>57</th>\n",
              "      <td>141290</td>\n",
              "      <td>Apple Airpods Headphones</td>\n",
              "      <td>1</td>\n",
              "      <td>150.00</td>\n",
              "      <td>2019-01-02 08:25:00</td>\n",
              "      <td>4 1st St, Los Angeles, CA 90001</td>\n",
              "      <td>1</td>\n",
              "      <td>150.00</td>\n",
              "      <td>Los Angeles</td>\n",
              "      <td>8</td>\n",
              "      <td>Apple Airpods Headphones,AA Batteries (4-pack)</td>\n",
              "    </tr>\n",
              "    <tr>\n",
              "      <th>133</th>\n",
              "      <td>141365</td>\n",
              "      <td>Vareebadd Phone</td>\n",
              "      <td>1</td>\n",
              "      <td>400.00</td>\n",
              "      <td>2019-01-10 11:19:00</td>\n",
              "      <td>20 Dogwood St, New York City, NY 10001</td>\n",
              "      <td>1</td>\n",
              "      <td>400.00</td>\n",
              "      <td>New York City</td>\n",
              "      <td>11</td>\n",
              "      <td>Vareebadd Phone,Wired Headphones</td>\n",
              "    </tr>\n",
              "    <tr>\n",
              "      <th>153</th>\n",
              "      <td>141384</td>\n",
              "      <td>Google Phone</td>\n",
              "      <td>1</td>\n",
              "      <td>600.00</td>\n",
              "      <td>2019-01-03 00:14:00</td>\n",
              "      <td>223 Jackson St, Boston, MA 02215</td>\n",
              "      <td>1</td>\n",
              "      <td>600.00</td>\n",
              "      <td>Boston</td>\n",
              "      <td>0</td>\n",
              "      <td>Google Phone,USB-C Charging Cable</td>\n",
              "    </tr>\n",
              "    <tr>\n",
              "      <th>220</th>\n",
              "      <td>141450</td>\n",
              "      <td>Google Phone</td>\n",
              "      <td>1</td>\n",
              "      <td>600.00</td>\n",
              "      <td>2019-01-12 11:16:00</td>\n",
              "      <td>521 Park St, San Francisco, CA 94016</td>\n",
              "      <td>1</td>\n",
              "      <td>600.00</td>\n",
              "      <td>San Francisco</td>\n",
              "      <td>11</td>\n",
              "      <td>Google Phone,Bose SoundSport Headphones</td>\n",
              "    </tr>\n",
              "  </tbody>\n",
              "</table>\n",
              "</div>"
            ],
            "text/plain": [
              "    Order ID  ...                                         Grouped\n",
              "41    141275  ...           USB-C Charging Cable,Wired Headphones\n",
              "57    141290  ...  Apple Airpods Headphones,AA Batteries (4-pack)\n",
              "133   141365  ...                Vareebadd Phone,Wired Headphones\n",
              "153   141384  ...               Google Phone,USB-C Charging Cable\n",
              "220   141450  ...         Google Phone,Bose SoundSport Headphones\n",
              "\n",
              "[5 rows x 11 columns]"
            ]
          },
          "metadata": {
            "tags": []
          },
          "execution_count": 59
        }
      ]
    },
    {
      "cell_type": "code",
      "metadata": {
        "colab": {
          "base_uri": "https://localhost:8080/"
        },
        "id": "WRQlhSnfaEIC",
        "outputId": "c0af2211-0994-46ab-df85-6dcb903722e8"
      },
      "source": [
        "df2['Grouped'].value_counts()"
      ],
      "execution_count": 60,
      "outputs": [
        {
          "output_type": "execute_result",
          "data": {
            "text/plain": [
              "iPhone,Lightning Charging Cable                                           882\n",
              "Google Phone,USB-C Charging Cable                                         856\n",
              "iPhone,Wired Headphones                                                   361\n",
              "Vareebadd Phone,USB-C Charging Cable                                      312\n",
              "Google Phone,Wired Headphones                                             303\n",
              "                                                                         ... \n",
              "iPhone,Lightning Charging Cable,Wired Headphones,USB-C Charging Cable       1\n",
              "Google Phone,USB-C Charging Cable,Wired Headphones,27in FHD Monitor         1\n",
              "Google Phone,USB-C Charging Cable,USB-C Charging Cable                      1\n",
              "Flatscreen TV,20in Monitor                                                  1\n",
              "iPhone,Lightning Charging Cable,Wired Headphones,AA Batteries (4-pack)      1\n",
              "Name: Grouped, Length: 366, dtype: int64"
            ]
          },
          "metadata": {
            "tags": []
          },
          "execution_count": 60
        }
      ]
    },
    {
      "cell_type": "code",
      "metadata": {
        "colab": {
          "base_uri": "https://localhost:8080/",
          "height": 265
        },
        "id": "p4HLbI0laD9S",
        "outputId": "ff447455-d462-45be-b429-9ba82e03464c"
      },
      "source": [
        "df2['Grouped'].value_counts()[0:10].plot.pie()"
      ],
      "execution_count": 61,
      "outputs": [
        {
          "output_type": "execute_result",
          "data": {
            "text/plain": [
              "<matplotlib.axes._subplots.AxesSubplot at 0x7fe40a458d10>"
            ]
          },
          "metadata": {
            "tags": []
          },
          "execution_count": 61
        },
        {
          "output_type": "display_data",
          "data": {
            "image/png": "[encoded data removed]",
            "text/plain": [
              "<Figure size 432x288 with 1 Axes>"
            ]
          },
          "metadata": {
            "tags": []
          }
        }
      ]
    }
  ]
}